{
 "cells": [
  {
   "cell_type": "code",
   "execution_count": 1,
   "id": "35a86c6a",
   "metadata": {},
   "outputs": [],
   "source": [
    "import requests\n",
    "from bs4 import BeautifulSoup\n",
    "import pandas as pd"
   ]
  },
  {
   "cell_type": "code",
   "execution_count": 2,
   "id": "6f43eee8",
   "metadata": {},
   "outputs": [
    {
     "data": {
      "application/vnd.microsoft.datawrangler.viewer.v0+json": {
       "columns": [
        {
         "name": "index",
         "rawType": "int64",
         "type": "integer"
        },
        {
         "name": "Title",
         "rawType": "object",
         "type": "string"
        },
        {
         "name": "Score",
         "rawType": "object",
         "type": "string"
        },
        {
         "name": "Info",
         "rawType": "object",
         "type": "string"
        }
       ],
       "conversionMethod": "pd.DataFrame",
       "ref": "a3d0995e-974c-4c21-b1d3-115d29bd387b",
       "rows": [
        [
         "0",
         "Sousou no Frieren",
         "9.30",
         "TV (28 eps)        Sep 2023 - Mar 2024        1,090,110 members"
        ],
        [
         "1",
         "Fullmetal Alchemist: Brotherhood",
         "9.10",
         "TV (64 eps)        Apr 2009 - Jul 2010        3,507,930 members"
        ],
        [
         "2",
         "Steins;Gate",
         "9.07",
         "TV (24 eps)        Apr 2011 - Sep 2011        2,687,126 members"
        ],
        [
         "3",
         "Shingeki no Kyojin Season 3 Part 2",
         "9.05",
         "TV (10 eps)        Apr 2019 - Jul 2019        2,431,852 members"
        ],
        [
         "4",
         "One Piece Fan Letter",
         "9.05",
         "TV Special (1 eps)        Oct 2024 - Oct 2024        104,341 members"
        ],
        [
         "5",
         "Gintama°",
         "9.05",
         "TV (51 eps)        Apr 2015 - Mar 2016        663,495 members"
        ],
        [
         "6",
         "Gintama: The Final",
         "9.04",
         "Movie (1 eps)        Jan 2021 - Jan 2021        167,882 members"
        ],
        [
         "7",
         "Hunter x Hunter (2011)",
         "9.03",
         "TV (148 eps)        Oct 2011 - Sep 2014        3,007,149 members"
        ],
        [
         "8",
         "Gintama'",
         "9.02",
         "TV (51 eps)        Apr 2011 - Mar 2012        586,724 members"
        ],
        [
         "9",
         "Gintama': Enchousen",
         "9.02",
         "TV (13 eps)        Oct 2012 - Mar 2013        342,823 members"
        ],
        [
         "10",
         "Ginga Eiyuu Densetsu",
         "9.01",
         "OVA (110 eps)        Jan 1988 - Mar 1997        342,326 members"
        ],
        [
         "11",
         "Bleach: Sennen Kessen-hen",
         "9.00",
         "TV (13 eps)        Oct 2022 - Dec 2022        629,332 members"
        ],
        [
         "12",
         "Gintama.",
         "8.98",
         "TV (12 eps)        Jan 2017 - Mar 2017        332,891 members"
        ],
        [
         "13",
         "Kaguya-sama wa Kokurasetai: Ultra Romantic",
         "8.98",
         "TV (13 eps)        Apr 2022 - Jun 2022        1,022,549 members"
        ],
        [
         "14",
         "Fruits Basket: The Final",
         "8.95",
         "TV (13 eps)        Apr 2021 - Jun 2021        523,201 members"
        ],
        [
         "15",
         "Clannad: After Story",
         "8.93",
         "TV (24 eps)        Oct 2008 - Mar 2009        1,239,442 members"
        ],
        [
         "16",
         "Gintama",
         "8.93",
         "TV (201 eps)        Apr 2006 - Mar 2010        1,111,896 members"
        ],
        [
         "17",
         "Koe no Katachi",
         "8.93",
         "Movie (1 eps)        Sep 2016 - Sep 2016        2,467,079 members"
        ],
        [
         "18",
         "3-gatsu no Lion 2nd Season",
         "8.91",
         "TV (22 eps)        Oct 2017 - Mar 2018        421,963 members"
        ],
        [
         "19",
         "Code Geass: Hangyaku no Lelouch R2",
         "8.91",
         "TV (25 eps)        Apr 2008 - Sep 2008        1,864,912 members"
        ],
        [
         "20",
         "Gintama Movie 2: Kanketsu-hen - Yorozuya yo Eien Nare",
         "8.90",
         "Movie (1 eps)        Jul 2013 - Jul 2013        252,464 members"
        ],
        [
         "21",
         "Gintama. Shirogane no Tamashii-hen - Kouhan-sen",
         "8.88",
         "TV (14 eps)        Jul 2018 - Oct 2018        213,681 members"
        ],
        [
         "22",
         "Monster",
         "8.88",
         "TV (74 eps)        Apr 2004 - Sep 2005        1,223,522 members"
        ],
        [
         "23",
         "Kusuriya no Hitorigoto",
         "8.87",
         "TV (24 eps)        Oct 2023 - Mar 2024        607,276 members"
        ],
        [
         "24",
         "Shingeki no Kyojin: The Final Season - Kanketsu-hen",
         "8.87",
         "TV Special (2 eps)        Mar 2023 - Nov 2023        759,763 members"
        ],
        [
         "25",
         "Owarimonogatari 2nd Season",
         "8.86",
         "TV Special (7 eps)        Aug 2017 - Aug 2017        420,069 members"
        ],
        [
         "26",
         "Violet Evergarden Movie",
         "8.85",
         "Movie (1 eps)        Sep 2020 - Sep 2020        670,355 members"
        ],
        [
         "27",
         "Shingeki no Kyojin Movie: Kanketsu-hen - The Last Attack",
         "8.83",
         "Movie (1 eps)        Nov 2024 - Nov 2024        41,204 members"
        ],
        [
         "28",
         "Kimi no Na wa.",
         "8.83",
         "Movie (1 eps)        Aug 2016 - Aug 2016        2,884,663 members"
        ],
        [
         "29",
         "Kingdom 3rd Season",
         "8.83",
         "TV (26 eps)        Apr 2020 - Oct 2021        118,399 members"
        ],
        [
         "30",
         "Kusuriya no Hitorigoto 2nd Season",
         "8.82",
         "TV (24 eps)        Jan 2025 -         268,120 members"
        ],
        [
         "31",
         "Vinland Saga Season 2",
         "8.81",
         "TV (24 eps)        Jan 2023 - Jun 2023        735,459 members"
        ],
        [
         "32",
         "Gintama. Shirogane no Tamashii-hen",
         "8.81",
         "TV (12 eps)        Jan 2018 - Mar 2018        226,598 members"
        ],
        [
         "33",
         "Hajime no Ippo",
         "8.78",
         "TV (75 eps)        Oct 2000 - Mar 2002        645,340 members"
        ],
        [
         "34",
         "Kizumonogatari III: Reiketsu-hen",
         "8.78",
         "Movie (1 eps)        Jan 2017 - Jan 2017        489,470 members"
        ],
        [
         "35",
         "Mob Psycho 100 II",
         "8.78",
         "TV (13 eps)        Jan 2019 - Apr 2019        1,632,000 members"
        ],
        [
         "36",
         "Ore dake Level Up na Ken Season 2: Arise from the Shadow",
         "8.78",
         "TV (13 eps)        Jan 2025 - Mar 2025        537,312 members"
        ],
        [
         "37",
         "Shingeki no Kyojin: The Final Season",
         "8.78",
         "TV (16 eps)        Dec 2020 - Mar 2021        2,143,059 members"
        ],
        [
         "38",
         "Sen to Chihiro no Kamikakushi",
         "8.77",
         "Movie (1 eps)        Jul 2001 - Jul 2001        1,942,560 members"
        ],
        [
         "39",
         "Vinland Saga",
         "8.77",
         "TV (24 eps)        Jul 2019 - Dec 2019        1,665,246 members"
        ],
        [
         "40",
         "Haikyuu!! Karasuno Koukou vs. Shiratorizawa Gakuen Koukou",
         "8.77",
         "TV (10 eps)        Oct 2016 - Dec 2016        1,268,985 members"
        ],
        [
         "41",
         "Shingeki no Kyojin: The Final Season Part 2",
         "8.76",
         "TV (12 eps)        Jan 2022 - Apr 2022        1,427,236 members"
        ],
        [
         "42",
         "Jujutsu Kaisen 2nd Season",
         "8.76",
         "TV (23 eps)        Jul 2023 - Dec 2023        1,174,151 members"
        ],
        [
         "43",
         "Monogatari Series: Second Season",
         "8.76",
         "TV (26 eps)        Jul 2013 - Dec 2013        696,206 members"
        ],
        [
         "44",
         "Bocchi the Rock!",
         "8.75",
         "TV (12 eps)        Oct 2022 - Dec 2022        686,342 members"
        ],
        [
         "45",
         "Boku no Kokoro no Yabai Yatsu 2nd Season",
         "8.75",
         "TV (13 eps)        Jan 2024 - Mar 2024        257,317 members"
        ],
        [
         "46",
         "Cowboy Bebop",
         "8.75",
         "TV (26 eps)        Apr 1998 - Apr 1999        1,961,186 members"
        ],
        [
         "47",
         "Ashita no Joe 2",
         "8.74",
         "TV (47 eps)        Oct 1980 - Aug 1981        59,938 members"
        ],
        [
         "48",
         "Kaguya-sama wa Kokurasetai: First Kiss wa Owaranai",
         "8.74",
         "Movie (1 eps)        Dec 2022 - Dec 2022        324,169 members"
        ],
        [
         "49",
         "Kingdom 4th Season",
         "8.73",
         "TV (26 eps)        Apr 2022 - Oct 2022        77,293 members"
        ]
       ],
       "shape": {
        "columns": 3,
        "rows": 250
       }
      },
      "text/html": [
       "<div>\n",
       "<style scoped>\n",
       "    .dataframe tbody tr th:only-of-type {\n",
       "        vertical-align: middle;\n",
       "    }\n",
       "\n",
       "    .dataframe tbody tr th {\n",
       "        vertical-align: top;\n",
       "    }\n",
       "\n",
       "    .dataframe thead th {\n",
       "        text-align: right;\n",
       "    }\n",
       "</style>\n",
       "<table border=\"1\" class=\"dataframe\">\n",
       "  <thead>\n",
       "    <tr style=\"text-align: right;\">\n",
       "      <th></th>\n",
       "      <th>Title</th>\n",
       "      <th>Score</th>\n",
       "      <th>Info</th>\n",
       "    </tr>\n",
       "  </thead>\n",
       "  <tbody>\n",
       "    <tr>\n",
       "      <th>0</th>\n",
       "      <td>Sousou no Frieren</td>\n",
       "      <td>9.30</td>\n",
       "      <td>TV (28 eps)        Sep 2023 - Mar 2024        ...</td>\n",
       "    </tr>\n",
       "    <tr>\n",
       "      <th>1</th>\n",
       "      <td>Fullmetal Alchemist: Brotherhood</td>\n",
       "      <td>9.10</td>\n",
       "      <td>TV (64 eps)        Apr 2009 - Jul 2010        ...</td>\n",
       "    </tr>\n",
       "    <tr>\n",
       "      <th>2</th>\n",
       "      <td>Steins;Gate</td>\n",
       "      <td>9.07</td>\n",
       "      <td>TV (24 eps)        Apr 2011 - Sep 2011        ...</td>\n",
       "    </tr>\n",
       "    <tr>\n",
       "      <th>3</th>\n",
       "      <td>Shingeki no Kyojin Season 3 Part 2</td>\n",
       "      <td>9.05</td>\n",
       "      <td>TV (10 eps)        Apr 2019 - Jul 2019        ...</td>\n",
       "    </tr>\n",
       "    <tr>\n",
       "      <th>4</th>\n",
       "      <td>One Piece Fan Letter</td>\n",
       "      <td>9.05</td>\n",
       "      <td>TV Special (1 eps)        Oct 2024 - Oct 2024 ...</td>\n",
       "    </tr>\n",
       "    <tr>\n",
       "      <th>...</th>\n",
       "      <td>...</td>\n",
       "      <td>...</td>\n",
       "      <td>...</td>\n",
       "    </tr>\n",
       "    <tr>\n",
       "      <th>245</th>\n",
       "      <td>Hellsing Ultimate</td>\n",
       "      <td>8.35</td>\n",
       "      <td>OVA (10 eps)        Feb 2006 - Dec 2012       ...</td>\n",
       "    </tr>\n",
       "    <tr>\n",
       "      <th>246</th>\n",
       "      <td>Initial D First Stage</td>\n",
       "      <td>8.35</td>\n",
       "      <td>TV (26 eps)        Apr 1998 - Dec 1998        ...</td>\n",
       "    </tr>\n",
       "    <tr>\n",
       "      <th>247</th>\n",
       "      <td>Douluo Dalu 2nd Season</td>\n",
       "      <td>8.34</td>\n",
       "      <td>ONA (237 eps)        Dec 2018 - Jun 2023      ...</td>\n",
       "    </tr>\n",
       "    <tr>\n",
       "      <th>248</th>\n",
       "      <td>Fumetsu no Anata e</td>\n",
       "      <td>8.34</td>\n",
       "      <td>TV (20 eps)        Apr 2021 - Aug 2021        ...</td>\n",
       "    </tr>\n",
       "    <tr>\n",
       "      <th>249</th>\n",
       "      <td>IDOLiSH7 Third Beat! Part 2</td>\n",
       "      <td>8.34</td>\n",
       "      <td>TV (17 eps)        Oct 2022 - Feb 2023        ...</td>\n",
       "    </tr>\n",
       "  </tbody>\n",
       "</table>\n",
       "<p>250 rows × 3 columns</p>\n",
       "</div>"
      ],
      "text/plain": [
       "                                  Title Score  \\\n",
       "0                     Sousou no Frieren  9.30   \n",
       "1      Fullmetal Alchemist: Brotherhood  9.10   \n",
       "2                           Steins;Gate  9.07   \n",
       "3    Shingeki no Kyojin Season 3 Part 2  9.05   \n",
       "4                  One Piece Fan Letter  9.05   \n",
       "..                                  ...   ...   \n",
       "245                   Hellsing Ultimate  8.35   \n",
       "246               Initial D First Stage  8.35   \n",
       "247              Douluo Dalu 2nd Season  8.34   \n",
       "248                  Fumetsu no Anata e  8.34   \n",
       "249         IDOLiSH7 Third Beat! Part 2  8.34   \n",
       "\n",
       "                                                  Info  \n",
       "0    TV (28 eps)        Sep 2023 - Mar 2024        ...  \n",
       "1    TV (64 eps)        Apr 2009 - Jul 2010        ...  \n",
       "2    TV (24 eps)        Apr 2011 - Sep 2011        ...  \n",
       "3    TV (10 eps)        Apr 2019 - Jul 2019        ...  \n",
       "4    TV Special (1 eps)        Oct 2024 - Oct 2024 ...  \n",
       "..                                                 ...  \n",
       "245  OVA (10 eps)        Feb 2006 - Dec 2012       ...  \n",
       "246  TV (26 eps)        Apr 1998 - Dec 1998        ...  \n",
       "247  ONA (237 eps)        Dec 2018 - Jun 2023      ...  \n",
       "248  TV (20 eps)        Apr 2021 - Aug 2021        ...  \n",
       "249  TV (17 eps)        Oct 2022 - Feb 2023        ...  \n",
       "\n",
       "[250 rows x 3 columns]"
      ]
     },
     "execution_count": 2,
     "metadata": {},
     "output_type": "execute_result"
    }
   ],
   "source": [
    "def scrape_top_anime(pages=5):  # 5 pages = 250 anime\n",
    "    base_url = \"https://myanimelist.net/topanime.php?limit=\"\n",
    "    anime_data = []\n",
    "\n",
    "    for i in range(0, pages * 50, 50):\n",
    "        url=base_url+str(i)\n",
    "        response=requests.get(url)\n",
    "        soup=BeautifulSoup(response.text, \"html.parser\")\n",
    "\n",
    "        anime_entries=soup.find_all('tr', class_=\"ranking-list\")\n",
    "        for entry in anime_entries:\n",
    "            title=entry.find('h3', class_=\"anime_ranking_h3\").text.strip()\n",
    "            score=entry.find(\"td\", class_=\"score\").text.strip()\n",
    "            info=entry.find(\"div\", class_=\"information\").text.strip().replace(\"\\n\",\"\")\n",
    "\n",
    "            anime_data.append({\n",
    "                \"Title\":title,\n",
    "                \"Score\":score,\n",
    "                \"Info\":info\n",
    "            })\n",
    "\n",
    "    return pd.DataFrame(anime_data)\n",
    "\n",
    "df_raw=scrape_top_anime()\n",
    "df_raw"
   ]
  },
  {
   "cell_type": "code",
   "execution_count": 4,
   "id": "4a85deac",
   "metadata": {},
   "outputs": [],
   "source": [
    "df_raw.to_csv('top_anime_raw_data.csv', index=False)"
   ]
  }
 ],
 "metadata": {
  "kernelspec": {
   "display_name": "Python 3",
   "language": "python",
   "name": "python3"
  },
  "language_info": {
   "codemirror_mode": {
    "name": "ipython",
    "version": 3
   },
   "file_extension": ".py",
   "mimetype": "text/x-python",
   "name": "python",
   "nbconvert_exporter": "python",
   "pygments_lexer": "ipython3",
   "version": "3.10.5"
  }
 },
 "nbformat": 4,
 "nbformat_minor": 5
}
